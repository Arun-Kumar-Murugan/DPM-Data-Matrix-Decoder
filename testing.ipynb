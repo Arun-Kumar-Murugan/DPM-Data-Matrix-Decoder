{
 "cells": [
  {
   "cell_type": "code",
   "execution_count": 1,
   "id": "3ceb14bd",
   "metadata": {},
   "outputs": [],
   "source": [
    "import os\n",
    "from decoder import DataMatrixDecoder"
   ]
  },
  {
   "cell_type": "code",
   "execution_count": 2,
   "id": "c88fb5c7",
   "metadata": {},
   "outputs": [
    {
     "name": "stdout",
     "output_type": "stream",
     "text": [
      "Decoding images from: dpm_images\\machine_1\n",
      "2025-07-18 14:28:44 - DEBUG - Decoder started\n"
     ]
    }
   ],
   "source": [
    "image_path = os.path.join(\"dpm_images\", \"machine_1\")\n",
    "print(f\"Decoding images from: {image_path}\")\n",
    "decoder = DataMatrixDecoder(machine_type=\"machine_1\", enable_cv_show=True)\n"
   ]
  },
  {
   "cell_type": "code",
   "execution_count": 3,
   "id": "737289e7",
   "metadata": {},
   "outputs": [
    {
     "name": "stdout",
     "output_type": "stream",
     "text": [
      "2025-07-18 14:28:44 - INFO - :::::::::: Found 5 images to decode ::::::::::\n",
      "2025-07-18 14:28:44 - INFO - ============================================================\n",
      "2025-07-18 14:28:44 - INFO - Decoding image: S00001_F1_C1_N001_P165_B1_20250717103204536.jpg\n",
      "2025-07-18 14:28:46 - INFO - Decoded DataMatrix of S00001_F1_C1_N001_P165_B1_20250717103204536.jpg successfully.\n",
      "2025-07-18 14:28:46 - INFO - Decoding image: S00003_F1_C3_N001_P165_B1_20250717103204552.jpg\n",
      "2025-07-18 14:28:47 - INFO - Decoded DataMatrix of S00003_F1_C3_N001_P165_B1_20250717103204552.jpg successfully.\n",
      "2025-07-18 14:28:47 - INFO - Decoding image: S00004_F1_C4_N001_P165_B1_20250717103204536.jpg\n",
      "2025-07-18 14:28:48 - INFO - Decoded DataMatrix of S00004_F1_C4_N001_P165_B1_20250717103204536.jpg successfully.\n",
      "2025-07-18 14:28:48 - INFO - Decoding image: S00005_F1_C1_N001_P165_B1_20250717103227958.jpg\n",
      "2025-07-18 14:28:50 - INFO - Decoded DataMatrix of S00005_F1_C1_N001_P165_B1_20250717103227958.jpg successfully.\n",
      "2025-07-18 14:28:50 - INFO - Decoding image: S00006_F1_C2_N001_P165_B1_20250717103227974.jpg\n",
      "2025-07-18 14:28:51 - INFO - Decoded DataMatrix of S00006_F1_C2_N001_P165_B1_20250717103227974.jpg successfully.\n",
      "2025-07-18 14:28:51 - INFO - ============================================================\n",
      "2025-07-18 14:28:51 - INFO - \n",
      "\n",
      "********************************************* RESULTS *********************************************\n",
      "\n",
      "+-------------------------------------------------+--------------------------------------------------+\n",
      "| Filename                                        | Decoded Data                                     |\n",
      "+=================================================+==================================================+\n",
      "| S00001_F1_C1_N001_P165_B1_20250717103204536.jpg | HNFHJN0020N0000KAC+A+0A+NNNNNNNNNNN+0220L41HHW84 |\n",
      "+-------------------------------------------------+--------------------------------------------------+\n",
      "| S00003_F1_C3_N001_P165_B1_20250717103204552.jpg | HNFHJN001XB0000KAC+A+0A+NNNNNNNNNNN+0220L42HHX83 |\n",
      "+-------------------------------------------------+--------------------------------------------------+\n",
      "| S00004_F1_C4_N001_P165_B1_20250717103204536.jpg | HNFHJN001ZG0000KAC+A+0A+NNNNNNNNNNN+0230L43HHN63 |\n",
      "+-------------------------------------------------+--------------------------------------------------+\n",
      "| S00005_F1_C1_N001_P165_B1_20250717103227958.jpg | HNFHJN001X50000KAC+A+0A+NNNNNNNNNNN+0220L49HHV62 |\n",
      "+-------------------------------------------------+--------------------------------------------------+\n",
      "| S00006_F1_C2_N001_P165_B1_20250717103227974.jpg | HNFHJN001X70000KAC+A+0A+NNNNNNNNNNN+0220L44HHT86 |\n",
      "+-------------------------------------------------+--------------------------------------------------+\n",
      "\n",
      "********************************************* END *********************************************\n"
     ]
    }
   ],
   "source": [
    "decoder.decode_images(image_path)"
   ]
  }
 ],
 "metadata": {
  "kernelspec": {
   "display_name": "Python 3",
   "language": "python",
   "name": "python3"
  },
  "language_info": {
   "codemirror_mode": {
    "name": "ipython",
    "version": 3
   },
   "file_extension": ".py",
   "mimetype": "text/x-python",
   "name": "python",
   "nbconvert_exporter": "python",
   "pygments_lexer": "ipython3",
   "version": "3.10.4"
  }
 },
 "nbformat": 4,
 "nbformat_minor": 5
}
